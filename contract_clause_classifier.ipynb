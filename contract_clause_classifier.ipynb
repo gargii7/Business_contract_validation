{
 "cells": [
  {
   "cell_type": "code",
   "execution_count": 1,
   "id": "a17a6244",
   "metadata": {},
   "outputs": [
    {
     "name": "stderr",
     "output_type": "stream",
     "text": [
      "C:\\Users\\gagrya\\anaconda3\\lib\\site-packages\\pandas\\core\\arrays\\masked.py:60: UserWarning: Pandas requires version '1.3.6' or newer of 'bottleneck' (version '1.3.5' currently installed).\n",
      "  from pandas.core import (\n"
     ]
    }
   ],
   "source": [
    "import fitz  # PyMuPDF\n",
    "import torch\n",
    "from transformers import BertTokenizer, BertForSequenceClassification\n",
    "from transformers import pipeline"
   ]
  },
  {
   "cell_type": "code",
   "execution_count": 2,
   "id": "fc465a47",
   "metadata": {},
   "outputs": [
    {
     "name": "stderr",
     "output_type": "stream",
     "text": [
      "Some weights of the model checkpoint at bert-base-uncased were not used when initializing BertForSequenceClassification: ['cls.predictions.transform.LayerNorm.bias', 'cls.predictions.decoder.weight', 'cls.predictions.bias', 'cls.predictions.transform.dense.bias', 'cls.predictions.transform.LayerNorm.weight', 'cls.seq_relationship.bias', 'cls.predictions.transform.dense.weight', 'cls.seq_relationship.weight']\n",
      "- This IS expected if you are initializing BertForSequenceClassification from the checkpoint of a model trained on another task or with another architecture (e.g. initializing a BertForSequenceClassification model from a BertForPreTraining model).\n",
      "- This IS NOT expected if you are initializing BertForSequenceClassification from the checkpoint of a model that you expect to be exactly identical (initializing a BertForSequenceClassification model from a BertForSequenceClassification model).\n",
      "Some weights of BertForSequenceClassification were not initialized from the model checkpoint at bert-base-uncased and are newly initialized: ['classifier.weight', 'classifier.bias']\n",
      "You should probably TRAIN this model on a down-stream task to be able to use it for predictions and inference.\n"
     ]
    }
   ],
   "source": [
    "# Load pre-trained model and tokenizer\n",
    "tokenizer = BertTokenizer.from_pretrained('bert-base-uncased')\n",
    "model = BertForSequenceClassification.from_pretrained('bert-base-uncased', num_labels=7)"
   ]
  },
  {
   "cell_type": "code",
   "execution_count": 3,
   "id": "db724dd9",
   "metadata": {},
   "outputs": [],
   "source": [
    "# Define the contract clauses template\n",
    "clauses = [\n",
    "    \"Services Provided\",\n",
    "    \"Payment\",\n",
    "    \"Term\",\n",
    "    \"Confidentiality\",\n",
    "    \"Termination\",\n",
    "    \"Governing Law\",\n",
    "    \"Signatures\"\n",
    "]"
   ]
  },
  {
   "cell_type": "code",
   "execution_count": 4,
   "id": "00fe4437",
   "metadata": {},
   "outputs": [],
   "source": [
    "def extract_text_from_pdf(pdf_path):\n",
    "    doc = fitz.open(pdf_path)\n",
    "    text = \"\"\n",
    "    for page_num in range(len(doc)):\n",
    "        page = doc.load_page(page_num)\n",
    "        text += page.get_text()\n",
    "    return text"
   ]
  },
  {
   "cell_type": "code",
   "execution_count": 5,
   "id": "e1373f69",
   "metadata": {},
   "outputs": [],
   "source": [
    "def classify_clause(text, clauses):\n",
    "    inputs = tokenizer(text, return_tensors=\"pt\", truncation=True, padding=True)\n",
    "    outputs = model(**inputs)\n",
    "    predictions = torch.argmax(outputs.logits, dim=-1)\n",
    "    return clauses[predictions.item()]\n"
   ]
  },
  {
   "cell_type": "code",
   "execution_count": 6,
   "id": "a51981cf",
   "metadata": {},
   "outputs": [],
   "source": [
    "def find_deviations(template_text, contract_text):\n",
    "    template_lines = template_text.split('\\n')\n",
    "    contract_lines = contract_text.split('\\n')\n",
    "    deviations = []\n",
    "\n",
    "    for line in contract_lines:\n",
    "        if line not in template_lines:\n",
    "            deviations.append(line)\n",
    "    \n",
    "    return deviations"
   ]
  },
  {
   "cell_type": "code",
   "execution_count": 7,
   "id": "7d469d17",
   "metadata": {},
   "outputs": [],
   "source": [
    "def main():\n",
    "    template_path = 'template.pdf'\n",
    "    contract_path = 'contract.pdf'\n",
    "\n",
    "    template_text = extract_text_from_pdf(template_path)\n",
    "    contract_text = extract_text_from_pdf(contract_path)\n",
    "\n",
    "    contract_lines = contract_text.split('\\n')\n",
    "    entity_label_pairs = []\n",
    "\n",
    "    for line in contract_lines:\n",
    "        if line.strip():\n",
    "            clause_label = classify_clause(line, clauses)\n",
    "            entity_label_pairs.append((line, clause_label))\n",
    "\n",
    "    deviations = find_deviations(template_text, contract_text)\n",
    "\n",
    "    print(\"Classified Entities and Labels:\")\n",
    "    for entity, label in entity_label_pairs:\n",
    "        print(f\"Entity: {entity}, Label: {label}\")\n",
    "\n",
    "    print(\"\\nDeviations from Template:\")\n",
    "    for deviation in deviations:\n",
    "        print(deviation)"
   ]
  },
  {
   "cell_type": "code",
   "execution_count": 8,
   "id": "c348dea1",
   "metadata": {},
   "outputs": [
    {
     "name": "stdout",
     "output_type": "stream",
     "text": [
      "Classified Entities and Labels:\n",
      "Entity: BUSINESS CONTRACT, Label: Confidentiality\n",
      "Entity: This Business Contract (\"Contract\") is made and entered into as of May 30, 2024, by and between:, Label: Confidentiality\n",
      "Entity: Party A:, Label: Confidentiality\n",
      "Entity: Name: ABC Marketing Solutions, Label: Confidentiality\n",
      "Entity: Address: 123 Market St, Springfield, IL 62701, Label: Confidentiality\n",
      "Entity: Contact: (555) 123-4567, contact@abcmarketing.com, Label: Confidentiality\n",
      "Entity: Party B:, Label: Confidentiality\n",
      "Entity: Name: XYZ Retailers Inc., Label: Confidentiality\n",
      "Entity: Address: 456 Commerce Blvd, Springfield, IL 62702, Label: Confidentiality\n",
      "Entity: Contact: (555) 987-6543, info@xyzretailers.com, Label: Confidentiality\n",
      "Entity: 1. Services Provided:, Label: Signatures\n",
      "Entity: ABC Marketing Solutions agrees to provide the following services to XYZ Retailers Inc.:, Label: Confidentiality\n",
      "Entity: - Digital marketing strategy development, Label: Confidentiality\n",
      "Entity: - Social media management, Label: Confidentiality\n",
      "Entity: - Search engine optimization (SEO), Label: Confidentiality\n",
      "Entity: 2. Payment:, Label: Confidentiality\n",
      "Entity: XYZ Retailers Inc. agrees to pay ABC Marketing Solutions the following amount for the services provided:, Label: Confidentiality\n",
      "Entity: Total Amount: $10,000, Label: Confidentiality\n",
      "Entity: Payment Schedule: 50% upfront, 50% upon completion, Label: Confidentiality\n",
      "Entity: 3. Term:, Label: Confidentiality\n",
      "Entity: This Contract shall commence on June 1, 2024, and shall continue until December 31, 2024, or until the se, Label: Confidentiality\n",
      "Entity: 4. Confidentiality:, Label: Confidentiality\n",
      "Entity: Both parties agree to keep all information exchanged during the term of this Contract confidential and not to, Label: Confidentiality\n",
      "Entity: 5. Termination:, Label: Confidentiality\n",
      "Entity: This Contract may be terminated by either party upon 30 days' written notice to the other party. In the even, Label: Confidentiality\n",
      "Entity: 6. Governing Law:, Label: Confidentiality\n",
      "Entity: This Contract shall be governed by and construed in accordance with the laws of the State of Illinois., Label: Confidentiality\n",
      "Entity: 7. Signatures:, Label: Confidentiality\n",
      "Entity: This Contract is agreed to and accepted by:, Label: Confidentiality\n",
      "Entity: Party A:, Label: Confidentiality\n",
      "Entity: Signature: ____________________________, Label: Confidentiality\n",
      "Entity: Name: John Smith, Label: Confidentiality\n",
      "Entity: Date: May 30, 2024, Label: Confidentiality\n",
      "Entity: Party B:, Label: Confidentiality\n",
      "Entity: Signature: ____________________________, Label: Confidentiality\n",
      "Entity: Name: Jane Doe, Label: Confidentiality\n",
      "Entity: Date: May 30, 2024, Label: Confidentiality\n",
      "\n",
      "Deviations from Template:\n",
      "This Business Contract (\"Contract\") is made and entered into as of May 30, 2024, by and between:\n",
      "Name: ABC Marketing Solutions\n",
      "Address: 123 Market St, Springfield, IL 62701\n",
      "Contact: (555) 123-4567, contact@abcmarketing.com\n",
      "Name: XYZ Retailers Inc.\n",
      "Address: 456 Commerce Blvd, Springfield, IL 62702\n",
      "Contact: (555) 987-6543, info@xyzretailers.com\n",
      "ABC Marketing Solutions agrees to provide the following services to XYZ Retailers Inc.:\n",
      "- Digital marketing strategy development\n",
      "- Social media management\n",
      "- Search engine optimization (SEO)\n",
      "XYZ Retailers Inc. agrees to pay ABC Marketing Solutions the following amount for the services provided:\n",
      "Total Amount: $10,000\n",
      "Payment Schedule: 50% upfront, 50% upon completion\n",
      "This Contract shall commence on June 1, 2024, and shall continue until December 31, 2024, or until the se\n",
      "This Contract may be terminated by either party upon 30 days' written notice to the other party. In the even\n",
      "This Contract shall be governed by and construed in accordance with the laws of the State of Illinois.\n",
      "Name: John Smith\n",
      "Date: May 30, 2024\n",
      "Name: Jane Doe\n",
      "Date: May 30, 2024\n"
     ]
    }
   ],
   "source": [
    "if __name__ == \"__main__\":\n",
    "    main()"
   ]
  },
  {
   "cell_type": "code",
   "execution_count": 9,
   "id": "8855564b",
   "metadata": {},
   "outputs": [],
   "source": [
    "import pandas as pd\n",
    "from sklearn.model_selection import train_test_split\n",
    "from transformers import BertTokenizer, BertForSequenceClassification, Trainer, TrainingArguments\n",
    "from transformers import TextClassificationPipeline\n",
    "import torch\n",
    "from torch.utils.data import Dataset, DataLoader"
   ]
  },
  {
   "cell_type": "code",
   "execution_count": 10,
   "id": "b454778f",
   "metadata": {},
   "outputs": [],
   "source": [
    "# Custom Dataset Class\n",
    "class ContractDataset(Dataset):\n",
    "    def __init__(self, texts, labels, tokenizer, max_len):\n",
    "        self.texts = texts\n",
    "        self.labels = labels\n",
    "        self.tokenizer = tokenizer\n",
    "        self.max_len = max_len\n",
    "\n",
    "    def __len__(self):\n",
    "        return len(self.texts)\n",
    "\n",
    "    def __getitem__(self, idx):\n",
    "        text = self.texts[idx]\n",
    "        label = self.labels[idx]\n",
    "        encoding = self.tokenizer.encode_plus(\n",
    "            text,\n",
    "            add_special_tokens=True,\n",
    "            max_length=self.max_len,\n",
    "            return_token_type_ids=False,\n",
    "            padding='max_length',\n",
    "            truncation=True,\n",
    "            return_attention_mask=True,\n",
    "            return_tensors='pt',\n",
    "        )\n",
    "\n",
    "        return {\n",
    "            'text': text,\n",
    "            'input_ids': encoding['input_ids'].flatten(),\n",
    "            'attention_mask': encoding['attention_mask'].flatten(),\n",
    "            'labels': torch.tensor(label, dtype=torch.long)\n",
    "        }"
   ]
  },
  {
   "cell_type": "code",
   "execution_count": 11,
   "id": "0f918d6f",
   "metadata": {},
   "outputs": [],
   "source": [
    "# Load data\n",
    "train_df = pd.read_csv('train.csv')\n",
    "eval_df = pd.read_csv('eval.csv')"
   ]
  },
  {
   "cell_type": "code",
   "execution_count": 12,
   "id": "1b77074d",
   "metadata": {},
   "outputs": [
    {
     "name": "stderr",
     "output_type": "stream",
     "text": [
      "Some weights of the model checkpoint at bert-base-uncased were not used when initializing BertForSequenceClassification: ['cls.predictions.transform.LayerNorm.bias', 'cls.predictions.decoder.weight', 'cls.predictions.bias', 'cls.predictions.transform.dense.bias', 'cls.predictions.transform.LayerNorm.weight', 'cls.seq_relationship.bias', 'cls.predictions.transform.dense.weight', 'cls.seq_relationship.weight']\n",
      "- This IS expected if you are initializing BertForSequenceClassification from the checkpoint of a model trained on another task or with another architecture (e.g. initializing a BertForSequenceClassification model from a BertForPreTraining model).\n",
      "- This IS NOT expected if you are initializing BertForSequenceClassification from the checkpoint of a model that you expect to be exactly identical (initializing a BertForSequenceClassification model from a BertForSequenceClassification model).\n",
      "Some weights of BertForSequenceClassification were not initialized from the model checkpoint at bert-base-uncased and are newly initialized: ['classifier.weight', 'classifier.bias']\n",
      "You should probably TRAIN this model on a down-stream task to be able to use it for predictions and inference.\n"
     ]
    }
   ],
   "source": [
    "# Load tokenizer and model\n",
    "tokenizer = BertTokenizer.from_pretrained('bert-base-uncased')\n",
    "model = BertForSequenceClassification.from_pretrained('bert-base-uncased', num_labels=len(clauses))"
   ]
  },
  {
   "cell_type": "code",
   "execution_count": 13,
   "id": "63b60a15",
   "metadata": {},
   "outputs": [],
   "source": [
    "# Create datasets\n",
    "train_dataset = ContractDataset(\n",
    "    texts=train_df.text.to_numpy(),\n",
    "    labels=train_df.label.to_numpy(),\n",
    "    tokenizer=tokenizer,\n",
    "    max_len=128\n",
    ")\n",
    "\n",
    "eval_dataset = ContractDataset(\n",
    "    texts=eval_df.text.to_numpy(),\n",
    "    labels=eval_df.label.to_numpy(),\n",
    "    tokenizer=tokenizer,\n",
    "    max_len=128\n",
    ")"
   ]
  },
  {
   "cell_type": "code",
   "execution_count": 14,
   "id": "799b95ec",
   "metadata": {},
   "outputs": [],
   "source": [
    "# Define training arguments\n",
    "training_args = TrainingArguments(\n",
    "    output_dir='./results',\n",
    "    num_train_epochs=3,\n",
    "    per_device_train_batch_size=8,\n",
    "    per_device_eval_batch_size=8,\n",
    "    warmup_steps=500,\n",
    "    weight_decay=0.01,\n",
    "    logging_dir='./logs',\n",
    "    logging_steps=10,\n",
    "    evaluation_strategy=\"epoch\"\n",
    ")"
   ]
  },
  {
   "cell_type": "code",
   "execution_count": 15,
   "id": "f5d74a9b",
   "metadata": {},
   "outputs": [],
   "source": [
    "# Create trainer\n",
    "trainer = Trainer(\n",
    "    model=model,\n",
    "    args=training_args,\n",
    "    train_dataset=train_dataset,\n",
    "    eval_dataset=eval_dataset\n",
    ")"
   ]
  },
  {
   "cell_type": "code",
   "execution_count": 16,
   "id": "ca72fbda",
   "metadata": {},
   "outputs": [
    {
     "name": "stderr",
     "output_type": "stream",
     "text": [
      "C:\\Users\\gagrya\\anaconda3\\lib\\site-packages\\transformers\\optimization.py:306: FutureWarning: This implementation of AdamW is deprecated and will be removed in a future version. Use the PyTorch implementation torch.optim.AdamW instead, or set `no_deprecation_warning=True` to disable this warning\n",
      "  warnings.warn(\n",
      "***** Running training *****\n",
      "  Num examples = 7\n",
      "  Num Epochs = 3\n",
      "  Instantaneous batch size per device = 8\n",
      "  Total train batch size (w. parallel, distributed & accumulation) = 8\n",
      "  Gradient Accumulation steps = 1\n",
      "  Total optimization steps = 3\n",
      "  Number of trainable parameters = 109487623\n",
      "The following columns in the training set don't have a corresponding argument in `BertForSequenceClassification.forward` and have been ignored: text. If text are not expected by `BertForSequenceClassification.forward`,  you can safely ignore this message.\n"
     ]
    },
    {
     "data": {
      "text/html": [
       "\n",
       "    <div>\n",
       "      \n",
       "      <progress value='3' max='3' style='width:300px; height:20px; vertical-align: middle;'></progress>\n",
       "      [3/3 09:30, Epoch 3/3]\n",
       "    </div>\n",
       "    <table border=\"1\" class=\"dataframe\">\n",
       "  <thead>\n",
       " <tr style=\"text-align: left;\">\n",
       "      <th>Epoch</th>\n",
       "      <th>Training Loss</th>\n",
       "      <th>Validation Loss</th>\n",
       "    </tr>\n",
       "  </thead>\n",
       "  <tbody>\n",
       "    <tr>\n",
       "      <td>1</td>\n",
       "      <td>No log</td>\n",
       "      <td>2.001677</td>\n",
       "    </tr>\n",
       "    <tr>\n",
       "      <td>2</td>\n",
       "      <td>No log</td>\n",
       "      <td>2.000971</td>\n",
       "    </tr>\n",
       "    <tr>\n",
       "      <td>3</td>\n",
       "      <td>No log</td>\n",
       "      <td>1.999594</td>\n",
       "    </tr>\n",
       "  </tbody>\n",
       "</table><p>"
      ],
      "text/plain": [
       "<IPython.core.display.HTML object>"
      ]
     },
     "metadata": {},
     "output_type": "display_data"
    },
    {
     "name": "stderr",
     "output_type": "stream",
     "text": [
      "***** Running Evaluation *****\n",
      "  Num examples = 7\n",
      "  Batch size = 8\n",
      "The following columns in the evaluation set don't have a corresponding argument in `BertForSequenceClassification.forward` and have been ignored: text. If text are not expected by `BertForSequenceClassification.forward`,  you can safely ignore this message.\n",
      "***** Running Evaluation *****\n",
      "  Num examples = 7\n",
      "  Batch size = 8\n",
      "The following columns in the evaluation set don't have a corresponding argument in `BertForSequenceClassification.forward` and have been ignored: text. If text are not expected by `BertForSequenceClassification.forward`,  you can safely ignore this message.\n",
      "***** Running Evaluation *****\n",
      "  Num examples = 7\n",
      "  Batch size = 8\n",
      "The following columns in the evaluation set don't have a corresponding argument in `BertForSequenceClassification.forward` and have been ignored: text. If text are not expected by `BertForSequenceClassification.forward`,  you can safely ignore this message.\n",
      "\n",
      "\n",
      "Training completed. Do not forget to share your model on huggingface.co/models =)\n",
      "\n",
      "\n"
     ]
    },
    {
     "data": {
      "text/plain": [
       "TrainOutput(global_step=3, training_loss=1.9898648262023926, metrics={'train_runtime': 779.19, 'train_samples_per_second': 0.027, 'train_steps_per_second': 0.004, 'total_flos': 1381395052800.0, 'train_loss': 1.9898648262023926, 'epoch': 3.0})"
      ]
     },
     "execution_count": 16,
     "metadata": {},
     "output_type": "execute_result"
    }
   ],
   "source": [
    "# Train the model\n",
    "trainer.train()"
   ]
  },
  {
   "cell_type": "code",
   "execution_count": 17,
   "id": "5c07a983",
   "metadata": {},
   "outputs": [
    {
     "name": "stderr",
     "output_type": "stream",
     "text": [
      "Configuration saved in ./fine-tuned-bert\\config.json\n",
      "Model weights saved in ./fine-tuned-bert\\pytorch_model.bin\n",
      "tokenizer config file saved in ./fine-tuned-bert\\tokenizer_config.json\n",
      "Special tokens file saved in ./fine-tuned-bert\\special_tokens_map.json\n"
     ]
    },
    {
     "data": {
      "text/plain": [
       "('./fine-tuned-bert\\\\tokenizer_config.json',\n",
       " './fine-tuned-bert\\\\special_tokens_map.json',\n",
       " './fine-tuned-bert\\\\vocab.txt',\n",
       " './fine-tuned-bert\\\\added_tokens.json')"
      ]
     },
     "execution_count": 17,
     "metadata": {},
     "output_type": "execute_result"
    }
   ],
   "source": [
    "# Save the fine-tuned model\n",
    "model.save_pretrained('./fine-tuned-bert')\n",
    "tokenizer.save_pretrained('./fine-tuned-bert')"
   ]
  },
  {
   "cell_type": "code",
   "execution_count": 18,
   "id": "5e84e1de",
   "metadata": {},
   "outputs": [
    {
     "name": "stderr",
     "output_type": "stream",
     "text": [
      "loading configuration file ./fine-tuned-bert\\config.json\n",
      "Model config BertConfig {\n",
      "  \"_name_or_path\": \"bert-base-uncased\",\n",
      "  \"architectures\": [\n",
      "    \"BertForSequenceClassification\"\n",
      "  ],\n",
      "  \"attention_probs_dropout_prob\": 0.1,\n",
      "  \"classifier_dropout\": null,\n",
      "  \"gradient_checkpointing\": false,\n",
      "  \"hidden_act\": \"gelu\",\n",
      "  \"hidden_dropout_prob\": 0.1,\n",
      "  \"hidden_size\": 768,\n",
      "  \"id2label\": {\n",
      "    \"0\": \"LABEL_0\",\n",
      "    \"1\": \"LABEL_1\",\n",
      "    \"2\": \"LABEL_2\",\n",
      "    \"3\": \"LABEL_3\",\n",
      "    \"4\": \"LABEL_4\",\n",
      "    \"5\": \"LABEL_5\",\n",
      "    \"6\": \"LABEL_6\"\n",
      "  },\n",
      "  \"initializer_range\": 0.02,\n",
      "  \"intermediate_size\": 3072,\n",
      "  \"label2id\": {\n",
      "    \"LABEL_0\": 0,\n",
      "    \"LABEL_1\": 1,\n",
      "    \"LABEL_2\": 2,\n",
      "    \"LABEL_3\": 3,\n",
      "    \"LABEL_4\": 4,\n",
      "    \"LABEL_5\": 5,\n",
      "    \"LABEL_6\": 6\n",
      "  },\n",
      "  \"layer_norm_eps\": 1e-12,\n",
      "  \"max_position_embeddings\": 512,\n",
      "  \"model_type\": \"bert\",\n",
      "  \"num_attention_heads\": 12,\n",
      "  \"num_hidden_layers\": 12,\n",
      "  \"pad_token_id\": 0,\n",
      "  \"position_embedding_type\": \"absolute\",\n",
      "  \"problem_type\": \"single_label_classification\",\n",
      "  \"torch_dtype\": \"float32\",\n",
      "  \"transformers_version\": \"4.24.0\",\n",
      "  \"type_vocab_size\": 2,\n",
      "  \"use_cache\": true,\n",
      "  \"vocab_size\": 30522\n",
      "}\n",
      "\n",
      "loading weights file ./fine-tuned-bert\\pytorch_model.bin\n",
      "All model checkpoint weights were used when initializing BertForSequenceClassification.\n",
      "\n",
      "All the weights of BertForSequenceClassification were initialized from the model checkpoint at ./fine-tuned-bert.\n",
      "If your task is similar to the task the model of the checkpoint was trained on, you can already use BertForSequenceClassification for predictions without further training.\n",
      "loading file vocab.txt\n",
      "loading file added_tokens.json\n",
      "loading file special_tokens_map.json\n",
      "loading file tokenizer_config.json\n"
     ]
    }
   ],
   "source": [
    "# Load the fine-tuned model and tokenizer for inference\n",
    "fine_tuned_model = BertForSequenceClassification.from_pretrained('./fine-tuned-bert')\n",
    "fine_tuned_tokenizer = BertTokenizer.from_pretrained('./fine-tuned-bert')"
   ]
  },
  {
   "cell_type": "code",
   "execution_count": null,
   "id": "ae1c537c",
   "metadata": {},
   "outputs": [],
   "source": []
  }
 ],
 "metadata": {
  "kernelspec": {
   "display_name": "Python 3 (ipykernel)",
   "language": "python",
   "name": "python3"
  },
  "language_info": {
   "codemirror_mode": {
    "name": "ipython",
    "version": 3
   },
   "file_extension": ".py",
   "mimetype": "text/x-python",
   "name": "python",
   "nbconvert_exporter": "python",
   "pygments_lexer": "ipython3",
   "version": "3.10.9"
  }
 },
 "nbformat": 4,
 "nbformat_minor": 5
}
