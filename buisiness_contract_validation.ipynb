{
 "cells": [
  {
   "cell_type": "code",
   "execution_count": 1,
   "id": "36b9f252",
   "metadata": {},
   "outputs": [],
   "source": [
    "# !pip install torch torchvision torchaudio"
   ]
  },
  {
   "cell_type": "code",
   "execution_count": 2,
   "id": "810ea99e",
   "metadata": {},
   "outputs": [],
   "source": [
    "# !pip install pdfplumber spacy difflib"
   ]
  },
  {
   "cell_type": "code",
   "execution_count": 3,
   "id": "8150178b",
   "metadata": {},
   "outputs": [],
   "source": [
    "# !python -m spacy download en_core_web_sm"
   ]
  },
  {
   "cell_type": "code",
   "execution_count": 4,
   "id": "7e27e90e",
   "metadata": {},
   "outputs": [
    {
     "name": "stdout",
     "output_type": "stream",
     "text": [
      "Requirement already satisfied: pdfplumber in c:\\users\\gagrya\\anaconda3\\lib\\site-packages (0.11.1)\n",
      "Requirement already satisfied: Pillow>=9.1 in c:\\users\\gagrya\\anaconda3\\lib\\site-packages (from pdfplumber) (9.4.0)\n",
      "Requirement already satisfied: pdfminer.six==20231228 in c:\\users\\gagrya\\anaconda3\\lib\\site-packages (from pdfplumber) (20231228)\n",
      "Requirement already satisfied: pypdfium2>=4.18.0 in c:\\users\\gagrya\\anaconda3\\lib\\site-packages (from pdfplumber) (4.30.0)\n",
      "Requirement already satisfied: charset-normalizer>=2.0.0 in c:\\users\\gagrya\\anaconda3\\lib\\site-packages (from pdfminer.six==20231228->pdfplumber) (2.0.4)\n",
      "Requirement already satisfied: cryptography>=36.0.0 in c:\\users\\gagrya\\anaconda3\\lib\\site-packages (from pdfminer.six==20231228->pdfplumber) (39.0.1)\n",
      "Requirement already satisfied: cffi>=1.12 in c:\\users\\gagrya\\anaconda3\\lib\\site-packages (from cryptography>=36.0.0->pdfminer.six==20231228->pdfplumber) (1.15.1)\n",
      "Requirement already satisfied: pycparser in c:\\users\\gagrya\\anaconda3\\lib\\site-packages (from cffi>=1.12->cryptography>=36.0.0->pdfminer.six==20231228->pdfplumber) (2.21)\n"
     ]
    }
   ],
   "source": [
    "!pip install pdfplumber"
   ]
  },
  {
   "cell_type": "code",
   "execution_count": 5,
   "id": "0f44c8eb",
   "metadata": {},
   "outputs": [
    {
     "name": "stderr",
     "output_type": "stream",
     "text": [
      "C:\\Users\\gagrya\\anaconda3\\lib\\site-packages\\pandas\\core\\arrays\\masked.py:60: UserWarning: Pandas requires version '1.3.6' or newer of 'bottleneck' (version '1.3.5' currently installed).\n",
      "  from pandas.core import (\n"
     ]
    }
   ],
   "source": [
    "# Import Dependencies\n",
    "import pdfplumber\n",
    "import spacy\n",
    "from difflib import unified_diff\n",
    "import torch\n",
    "from torch import nn\n",
    "from torch.utils.data import DataLoader, Dataset\n",
    "from transformers import BertTokenizer, BertForSequenceClassification"
   ]
  },
  {
   "cell_type": "code",
   "execution_count": 6,
   "id": "cb7ad3c7",
   "metadata": {},
   "outputs": [],
   "source": [
    "import pytesseract\n",
    "from pytesseract import Output\n",
    "from PIL import Image\n",
    "import logging"
   ]
  },
  {
   "cell_type": "code",
   "execution_count": 7,
   "id": "5ec49e4c",
   "metadata": {},
   "outputs": [],
   "source": [
    "# Set up logging\n",
    "logging.basicConfig(level=logging.INFO)\n",
    "logger = logging.getLogger(__name__)"
   ]
  },
  {
   "cell_type": "code",
   "execution_count": 8,
   "id": "c244ae3e",
   "metadata": {},
   "outputs": [],
   "source": [
    "# Load spaCy model for NER\n",
    "nlp = spacy.load('en_core_web_sm')"
   ]
  },
  {
   "cell_type": "code",
   "execution_count": 9,
   "id": "de87548a",
   "metadata": {},
   "outputs": [],
   "source": [
    "# Custom dataset for PyTorch\n",
    "class ContractDataset(Dataset):\n",
    "    def __init__(self, texts, labels, tokenizer, max_length):\n",
    "        self.texts = texts\n",
    "        self.labels = labels\n",
    "        self.tokenizer = tokenizer\n",
    "        self.max_length = max_length\n",
    "\n",
    "    def __len__(self):\n",
    "        return len(self.texts)\n",
    "\n",
    "    def __getitem__(self, item):\n",
    "        text = self.texts[item]\n",
    "        label = self.labels[item]\n",
    "        encoding = self.tokenizer.encode_plus(\n",
    "            text, \n",
    "            add_special_tokens=True,\n",
    "            max_length=self.max_length,\n",
    "            return_token_type_ids=False,\n",
    "            padding='max_length',\n",
    "            truncation=True,\n",
    "            return_attention_mask=True,\n",
    "            return_tensors='pt'\n",
    "        )\n",
    "\n",
    "        return {\n",
    "            'text': text,\n",
    "            'input_ids': encoding['input_ids'].flatten(),\n",
    "            'attention_mask': encoding['attention_mask'].flatten(),\n",
    "            'labels': torch.tensor(label, dtype=torch.long)\n",
    "        }"
   ]
  },
  {
   "cell_type": "code",
   "execution_count": 10,
   "id": "238198a6",
   "metadata": {},
   "outputs": [
    {
     "name": "stderr",
     "output_type": "stream",
     "text": [
      "Some weights of the model checkpoint at bert-base-uncased were not used when initializing BertForSequenceClassification: ['cls.predictions.bias', 'cls.predictions.transform.LayerNorm.weight', 'cls.predictions.decoder.weight', 'cls.seq_relationship.bias', 'cls.predictions.transform.dense.weight', 'cls.predictions.transform.dense.bias', 'cls.seq_relationship.weight', 'cls.predictions.transform.LayerNorm.bias']\n",
      "- This IS expected if you are initializing BertForSequenceClassification from the checkpoint of a model trained on another task or with another architecture (e.g. initializing a BertForSequenceClassification model from a BertForPreTraining model).\n",
      "- This IS NOT expected if you are initializing BertForSequenceClassification from the checkpoint of a model that you expect to be exactly identical (initializing a BertForSequenceClassification model from a BertForSequenceClassification model).\n",
      "Some weights of BertForSequenceClassification were not initialized from the model checkpoint at bert-base-uncased and are newly initialized: ['classifier.bias', 'classifier.weight']\n",
      "You should probably TRAIN this model on a down-stream task to be able to use it for predictions and inference.\n"
     ]
    }
   ],
   "source": [
    "# Load the pre-trained BERT Model for classification model (dummy)\n",
    "tokenizer = BertTokenizer.from_pretrained('bert-base-uncased')\n",
    "model = BertForSequenceClassification.from_pretrained('bert-base-uncased', num_labels=2)"
   ]
  },
  {
   "cell_type": "code",
   "execution_count": 11,
   "id": "87e1ffca",
   "metadata": {},
   "outputs": [],
   "source": [
    "# Example Classification Model\n",
    "class SimpleClassifier(nn.Module):\n",
    "    def __init__(self):\n",
    "        super(SimpleClassifier, self).__init__()\n",
    "        self.linear = nn.Linear(768, 2)\n",
    "\n",
    "    def forward(self, x):\n",
    "        return self.linear(x)\n",
    "\n",
    "classifier = SimpleClassifier()"
   ]
  },
  {
   "cell_type": "code",
   "execution_count": 12,
   "id": "48de45ee",
   "metadata": {},
   "outputs": [],
   "source": [
    "# Example function to parse and extract text from PDF\n",
    "def extract_text_from_pdf(pdf_path):\n",
    "    with pdfplumber.open(pdf_path) as pdf:\n",
    "        text = ''\n",
    "        for page in pdf.pages:\n",
    "            text += page.extract_text()\n",
    "    return text"
   ]
  },
  {
   "cell_type": "code",
   "execution_count": 13,
   "id": "9b6467dc",
   "metadata": {},
   "outputs": [],
   "source": [
    "def classify_text_sections(text):\n",
    "    inputs = tokenizer(text, return_tensors=\"pt\", max_length=512, truncation=True, padding='max_length')\n",
    "    outputs = model(**inputs)\n",
    "    _, predicted = torch.max(outputs.logits, dim=1)\n",
    "    return predicted.item()\n"
   ]
  },
  {
   "cell_type": "code",
   "execution_count": 14,
   "id": "ea0ca8a9",
   "metadata": {},
   "outputs": [],
   "source": [
    "# Function to perform NER (Named Entity Recognition)\n",
    "def perform_ner(text):\n",
    "    doc = nlp(text)\n",
    "    entities = [(ent.text, ent.label_) for ent in doc.ents]\n",
    "    return entities\n"
   ]
  },
  {
   "cell_type": "code",
   "execution_count": 15,
   "id": "30156915",
   "metadata": {},
   "outputs": [],
   "source": [
    "# Function to compare texts and highlight differences\n",
    "def compare_texts(text1, text2):\n",
    "    diff = unified_diff(text1.splitlines(), text2.splitlines(), lineterm='')\n",
    "    return '\\n'.join(list(diff))"
   ]
  },
  {
   "cell_type": "code",
   "execution_count": 16,
   "id": "72732568",
   "metadata": {},
   "outputs": [],
   "source": [
    "# Function to highlight differences in PDF (dummy implementation)\n",
    "def highlight_differences(pdf_path, differences):\n",
    "    # Implement PDF highlighting logic\n",
    "    pass"
   ]
  },
  {
   "cell_type": "code",
   "execution_count": 17,
   "id": "d2614f74",
   "metadata": {},
   "outputs": [],
   "source": [
    "# Function to summarize text (dummy implementation)\n",
    "def summarize_text(text):\n",
    "    # Implement text summarization logic\n",
    "    return \"Summary of the text\""
   ]
  },
  {
   "cell_type": "code",
   "execution_count": 18,
   "id": "ba84c97d",
   "metadata": {},
   "outputs": [],
   "source": [
    "# Main function\n",
    "def main(pdf_path, template_path):\n",
    "    contract_text = extract_text_from_pdf(pdf_path)\n",
    "    template_text = extract_text_from_pdf(template_path)\n",
    "    \n",
    "    # Classify text sections (example for the entire text)\n",
    "    classification_result = classify_text_sections(contract_text)\n",
    "    logger.info(\"Classification Result: %s\", classification_result)\n",
    "\n",
    "    # Perform NER\n",
    "    entities = perform_ner(contract_text)\n",
    "    logger.info(\"Named Entities: %s\", entities)\n",
    "\n",
    "    # Compare with template\n",
    "    differences = compare_texts(contract_text, template_text)\n",
    "    logger.info(\"Differences:\\n%s\", differences)\n",
    "\n",
    "    # Highlight differences in PDF (dummy implementation)\n",
    "    highlight_differences(pdf_path, differences)\n",
    "\n",
    "    # Summarize text (dummy implementation)\n",
    "    summary = summarize_text(contract_text)\n",
    "    logger.info(\"Summary: %s\", summary)"
   ]
  },
  {
   "cell_type": "code",
   "execution_count": 19,
   "id": "3ed93dd9",
   "metadata": {},
   "outputs": [
    {
     "name": "stderr",
     "output_type": "stream",
     "text": [
      "INFO:__main__:Classification Result: 1\n",
      "INFO:__main__:Named Entities: [('This Business Contract', 'ORG'), ('May 30, 2024', 'DATE'), ('ABC Marketing Solutions\\nAddress', 'ORG'), ('123', 'CARDINAL'), ('Springfield', 'GPE'), ('IL 62701\\nContact', 'ORG'), ('555', 'CARDINAL'), ('123-4567', 'CARDINAL'), ('XYZ Retailers Inc.', 'ORG'), ('456', 'CARDINAL'), ('Springfield', 'GPE'), ('IL 62702', 'ORG'), ('555', 'CARDINAL'), ('987-6543', 'CARDINAL'), ('1', 'CARDINAL'), ('ABC Marketing Solutions', 'ORG'), ('XYZ Retailers Inc.', 'ORG'), ('Digital', 'ORG'), ('2', 'CARDINAL'), ('XYZ Retailers Inc.', 'ORG'), ('ABC Marketing Solutions', 'ORG'), ('10,000', 'MONEY'), ('50%', 'PERCENT'), ('50%', 'PERCENT'), ('June 1, 2024', 'DATE'), ('December 31, 2024', 'DATE'), ('first', 'ORDINAL'), ('4', 'CARDINAL'), ('third', 'ORDINAL'), ('5', 'CARDINAL'), (\"30 days'\", 'DATE'), ('ABC Marketing Solutions', 'ORG'), ('6', 'CARDINAL'), ('the State of Illinois', 'GPE'), ('7', 'CARDINAL'), ('John Smith', 'PERSON'), ('May 30, 2024', 'DATE'), ('Jane Doe\\nDate', 'PERSON'), ('May 30, 2024', 'DATE')]\n",
      "INFO:__main__:Differences:\n",
      "--- \n",
      "+++ \n",
      "@@ -1,36 +1,34 @@\n",
      " BUSINESS CONTRACT\n",
      "-This Business Contract (\"Contract\") is made and entered into as of May 30, 2024, by and between:\n",
      "+This Business Contract (\"Contract\") is made and entered into as of [Date], by and between:\n",
      " Party A:\n",
      "-Name: ABC Marketing Solutions\n",
      "-Address: 123 Market St, Springfield, IL 62701\n",
      "-Contact: (555) 123-4567, contact@abcmarketing.com\n",
      "+Name: [Party A Name]\n",
      "+Address: [Party A Address]\n",
      "+Contact: [Party A Contact Information]\n",
      " Party B:\n",
      "-Name: XYZ Retailers Inc.\n",
      "-Address: 456 Commerce Blvd, Springfield, IL 62702\n",
      "-Contact: (555) 987-6543, info@xyzretailers.com\n",
      "+Name: [Party B Name]\n",
      "+Address: [Party B Address]\n",
      "+Contact: [Party B Contact Information]\n",
      " 1. Services Provided:\n",
      "-ABC Marketing Solutions agrees to provide the following services to XYZ Retailers Inc.:\n",
      "-- Digital marketing strategy development\n",
      "-- Social media management\n",
      "-- Search engine optimization (SEO)\n",
      "+Party A agrees to provide the following services to Party B:\n",
      "+[Description of services]\n",
      " 2. Payment:\n",
      "-XYZ Retailers Inc. agrees to pay ABC Marketing Solutions the following amount for the services provided:\n",
      "-Total Amount: $10,000\n",
      "-Payment Schedule: 50% upfront, 50% upon completion3. Term:\n",
      "-This Contract shall commence on June 1, 2024, and shall continue until December 31, 2024, or until the services are completed to the satisfaction of both parties, whichever comes first.\n",
      "-4. Confidentiality:\n",
      "+Party B agrees to pay Party A the following amount for the services provided:\n",
      "+Total Amount: $[Amount]\n",
      "+Payment Schedule: [Payment Schedule, e.g., 50% upfront, 50% upon completion]\n",
      "+3. Term:\n",
      "+This Contract shall commence on [Start Date] and shall continue until [End Date] or until the services are completed to the satisfaction of both parties, whichever comes first.4. Confidentiality:\n",
      " Both parties agree to keep all information exchanged during the term of this Contract confidential and not to disclose such information to any third parties without the prior written consent of the other party.\n",
      " 5. Termination:\n",
      "-This Contract may be terminated by either party upon 30 days' written notice to the other party. In the event of termination, ABC Marketing Solutions shall be compensated for all services performed up to the date of termination.\n",
      "+This Contract may be terminated by either party upon [Number] days' written notice to the other party. In the event of termination, Party A shall be compensated for all services performed up to the date of termination.\n",
      " 6. Governing Law:\n",
      "-This Contract shall be governed by and construed in accordance with the laws of the State of Illinois.\n",
      "+This Contract shall be governed by and construed in accordance with the laws of the State of [State].\n",
      " 7. Signatures:\n",
      " This Contract is agreed to and accepted by:\n",
      " Party A:\n",
      " Signature: ____________________________\n",
      "-Name: John Smith\n",
      "-Date: May 30, 2024\n",
      "+Name: [Party A Name]\n",
      "+Date: [Date]\n",
      " Party B:\n",
      " Signature: ____________________________\n",
      "-Name: Jane Doe\n",
      "-Date: May 30, 2024\n",
      "+Name: [Party B Name]\n",
      "+Date: [Date]\n",
      "INFO:__main__:Summary: Summary of the text\n"
     ]
    }
   ],
   "source": [
    "if __name__ == \"__main__\":\n",
    "    # Paths to the contract and template PDF files, and image file\n",
    "    contract_pdf_path = \"contract.pdf\"\n",
    "    template_pdf_path = \"template.pdf\"\n",
    "\n",
    "    main(contract_pdf_path, template_pdf_path)"
   ]
  },
  {
   "cell_type": "code",
   "execution_count": null,
   "id": "97ea26df",
   "metadata": {},
   "outputs": [],
   "source": []
  }
 ],
 "metadata": {
  "kernelspec": {
   "display_name": "Python 3 (ipykernel)",
   "language": "python",
   "name": "python3"
  },
  "language_info": {
   "codemirror_mode": {
    "name": "ipython",
    "version": 3
   },
   "file_extension": ".py",
   "mimetype": "text/x-python",
   "name": "python",
   "nbconvert_exporter": "python",
   "pygments_lexer": "ipython3",
   "version": "3.10.9"
  }
 },
 "nbformat": 4,
 "nbformat_minor": 5
}
